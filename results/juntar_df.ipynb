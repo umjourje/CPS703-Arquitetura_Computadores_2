{
 "cells": [
  {
   "cell_type": "code",
   "execution_count": 43,
   "metadata": {},
   "outputs": [],
   "source": [
    "import pandas as pd\n",
    "import os\n",
    "import numpy as np\n",
    "import matplotlib.pyplot as plt"
   ]
  },
  {
   "cell_type": "code",
   "execution_count": null,
   "metadata": {},
   "outputs": [],
   "source": [
    "run1_stats-STD"
   ]
  },
  {
   "cell_type": "code",
   "execution_count": 25,
   "metadata": {},
   "outputs": [],
   "source": [
    "runs=[1,2,3]\n",
    "names=[\"STD\",\"TK1\", \"TK2\", \"TK3\", \"TK4\"]\n",
    "\n",
    "for i in names:\n",
    "    for j in runs:\n",
    "        path = \"run{}_stats-{}.csv\".format(j,i)\n",
    "        globals()[f'df_{i}_{j}'] = pd.read_csv(path)\n",
    "        globals()[f'df_{i}_{j}']['caixa']=i\n",
    "        globals()[f'df_{i}_{j}']['run']=j"
   ]
  },
  {
   "cell_type": "code",
   "execution_count": 29,
   "metadata": {},
   "outputs": [],
   "source": [
    "dfs = %who_ls DataFrame"
   ]
  },
  {
   "cell_type": "code",
   "execution_count": 35,
   "metadata": {},
   "outputs": [
    {
     "data": {
      "text/plain": [
       "['df_STD_1',\n",
       " 'df_STD_2',\n",
       " 'df_STD_3',\n",
       " 'df_TK1_1',\n",
       " 'df_TK1_2',\n",
       " 'df_TK1_3',\n",
       " 'df_TK2_1',\n",
       " 'df_TK2_2',\n",
       " 'df_TK2_3',\n",
       " 'df_TK3_1',\n",
       " 'df_TK3_2',\n",
       " 'df_TK3_3',\n",
       " 'df_TK4_1',\n",
       " 'df_TK4_2',\n",
       " 'df_TK4_3']"
      ]
     },
     "execution_count": 35,
     "metadata": {},
     "output_type": "execute_result"
    }
   ],
   "source": [
    "dfs"
   ]
  },
  {
   "cell_type": "code",
   "execution_count": 54,
   "metadata": {},
   "outputs": [],
   "source": [
    "## Concatenando tudo\n",
    "\n",
    "df = pd.concat([df_STD_1,\n",
    " df_STD_2,\n",
    " df_STD_3,\n",
    " df_TK1_1,\n",
    " df_TK1_2,\n",
    " df_TK1_3,\n",
    " df_TK2_1,\n",
    " df_TK2_2,\n",
    " df_TK2_3,\n",
    " df_TK3_1,\n",
    " df_TK3_2,\n",
    " df_TK3_3,\n",
    " df_TK4_1,\n",
    " df_TK4_2,\n",
    " df_TK4_3]).reset_index(drop=True)"
   ]
  },
  {
   "cell_type": "code",
   "execution_count": 79,
   "metadata": {},
   "outputs": [
    {
     "data": {
      "text/html": [
       "<div>\n",
       "<style scoped>\n",
       "    .dataframe tbody tr th:only-of-type {\n",
       "        vertical-align: middle;\n",
       "    }\n",
       "\n",
       "    .dataframe tbody tr th {\n",
       "        vertical-align: top;\n",
       "    }\n",
       "\n",
       "    .dataframe thead th {\n",
       "        text-align: right;\n",
       "    }\n",
       "</style>\n",
       "<table border=\"1\" class=\"dataframe\">\n",
       "  <thead>\n",
       "    <tr style=\"text-align: right;\">\n",
       "      <th></th>\n",
       "      <th>stat-name</th>\n",
       "      <th>user</th>\n",
       "      <th>supervisor</th>\n",
       "      <th>hypervisor</th>\n",
       "      <th>machine</th>\n",
       "      <th>total</th>\n",
       "      <th>caixa</th>\n",
       "      <th>run</th>\n",
       "    </tr>\n",
       "  </thead>\n",
       "  <tbody>\n",
       "    <tr>\n",
       "      <th>0</th>\n",
       "      <td>cycles</td>\n",
       "      <td>213870233</td>\n",
       "      <td>4042836</td>\n",
       "      <td>0</td>\n",
       "      <td>42316</td>\n",
       "      <td>217955385</td>\n",
       "      <td>STD</td>\n",
       "      <td>1</td>\n",
       "    </tr>\n",
       "    <tr>\n",
       "      <th>1</th>\n",
       "      <td>commits</td>\n",
       "      <td>182972159</td>\n",
       "      <td>1517927</td>\n",
       "      <td>0</td>\n",
       "      <td>21126</td>\n",
       "      <td>184511212</td>\n",
       "      <td>STD</td>\n",
       "      <td>1</td>\n",
       "    </tr>\n",
       "    <tr>\n",
       "      <th>2</th>\n",
       "      <td>ins_fetch</td>\n",
       "      <td>204118996</td>\n",
       "      <td>1940136</td>\n",
       "      <td>0</td>\n",
       "      <td>23675</td>\n",
       "      <td>206082807</td>\n",
       "      <td>STD</td>\n",
       "      <td>1</td>\n",
       "    </tr>\n",
       "    <tr>\n",
       "      <th>3</th>\n",
       "      <td>sim_time_milli_sec</td>\n",
       "      <td>0</td>\n",
       "      <td>0</td>\n",
       "      <td>0</td>\n",
       "      <td>0</td>\n",
       "      <td>87820</td>\n",
       "      <td>STD</td>\n",
       "      <td>1</td>\n",
       "    </tr>\n",
       "    <tr>\n",
       "      <th>4</th>\n",
       "      <td>insn_mem_delay</td>\n",
       "      <td>221794</td>\n",
       "      <td>464477</td>\n",
       "      <td>0</td>\n",
       "      <td>5157</td>\n",
       "      <td>691428</td>\n",
       "      <td>STD</td>\n",
       "      <td>1</td>\n",
       "    </tr>\n",
       "    <tr>\n",
       "      <th>...</th>\n",
       "      <td>...</td>\n",
       "      <td>...</td>\n",
       "      <td>...</td>\n",
       "      <td>...</td>\n",
       "      <td>...</td>\n",
       "      <td>...</td>\n",
       "      <td>...</td>\n",
       "      <td>...</td>\n",
       "    </tr>\n",
       "    <tr>\n",
       "      <th>1375</th>\n",
       "      <td>L1_dcache_write_misses</td>\n",
       "      <td>586</td>\n",
       "      <td>9381</td>\n",
       "      <td>0</td>\n",
       "      <td>41</td>\n",
       "      <td>10008</td>\n",
       "      <td>TK4</td>\n",
       "      <td>3</td>\n",
       "    </tr>\n",
       "    <tr>\n",
       "      <th>1376</th>\n",
       "      <td>L2_cache_reads</td>\n",
       "      <td>12168</td>\n",
       "      <td>40801</td>\n",
       "      <td>0</td>\n",
       "      <td>212</td>\n",
       "      <td>53181</td>\n",
       "      <td>TK4</td>\n",
       "      <td>3</td>\n",
       "    </tr>\n",
       "    <tr>\n",
       "      <th>1377</th>\n",
       "      <td>L2_cache_read_misses</td>\n",
       "      <td>8046</td>\n",
       "      <td>25131</td>\n",
       "      <td>0</td>\n",
       "      <td>78</td>\n",
       "      <td>33255</td>\n",
       "      <td>TK4</td>\n",
       "      <td>3</td>\n",
       "    </tr>\n",
       "    <tr>\n",
       "      <th>1378</th>\n",
       "      <td>L2_cache_writes</td>\n",
       "      <td>2940</td>\n",
       "      <td>14913</td>\n",
       "      <td>0</td>\n",
       "      <td>38</td>\n",
       "      <td>17891</td>\n",
       "      <td>TK4</td>\n",
       "      <td>3</td>\n",
       "    </tr>\n",
       "    <tr>\n",
       "      <th>1379</th>\n",
       "      <td>L2_cache_write_misses</td>\n",
       "      <td>55</td>\n",
       "      <td>150</td>\n",
       "      <td>0</td>\n",
       "      <td>0</td>\n",
       "      <td>205</td>\n",
       "      <td>TK4</td>\n",
       "      <td>3</td>\n",
       "    </tr>\n",
       "  </tbody>\n",
       "</table>\n",
       "<p>1380 rows × 8 columns</p>\n",
       "</div>"
      ],
      "text/plain": [
       "                   stat-name       user  supervisor  hypervisor  machine  \\\n",
       "0                     cycles  213870233     4042836           0    42316   \n",
       "1                    commits  182972159     1517927           0    21126   \n",
       "2                  ins_fetch  204118996     1940136           0    23675   \n",
       "3         sim_time_milli_sec          0           0           0        0   \n",
       "4             insn_mem_delay     221794      464477           0     5157   \n",
       "...                      ...        ...         ...         ...      ...   \n",
       "1375  L1_dcache_write_misses        586        9381           0       41   \n",
       "1376          L2_cache_reads      12168       40801           0      212   \n",
       "1377    L2_cache_read_misses       8046       25131           0       78   \n",
       "1378         L2_cache_writes       2940       14913           0       38   \n",
       "1379   L2_cache_write_misses         55         150           0        0   \n",
       "\n",
       "          total caixa  run  \n",
       "0     217955385   STD    1  \n",
       "1     184511212   STD    1  \n",
       "2     206082807   STD    1  \n",
       "3         87820   STD    1  \n",
       "4        691428   STD    1  \n",
       "...         ...   ...  ...  \n",
       "1375      10008   TK4    3  \n",
       "1376      53181   TK4    3  \n",
       "1377      33255   TK4    3  \n",
       "1378      17891   TK4    3  \n",
       "1379        205   TK4    3  \n",
       "\n",
       "[1380 rows x 8 columns]"
      ]
     },
     "execution_count": 79,
     "metadata": {},
     "output_type": "execute_result"
    }
   ],
   "source": [
    "df"
   ]
  },
  {
   "cell_type": "code",
   "execution_count": 90,
   "metadata": {},
   "outputs": [
    {
     "data": {
      "text/plain": [
       "[574, 237, 594, 610, 663]"
      ]
     },
     "execution_count": 90,
     "metadata": {},
     "output_type": "execute_result"
    }
   ],
   "source": [
    "list(df[(df['run']==1) & (df['stat-name']==variavel_escolhida)]['machine'])"
   ]
  },
  {
   "cell_type": "code",
   "execution_count": 89,
   "metadata": {},
   "outputs": [
    {
     "data": {
      "text/plain": [
       "34      574\n",
       "310     237\n",
       "586     594\n",
       "862     610\n",
       "1138    663\n",
       "Name: machine, dtype: int64"
      ]
     },
     "execution_count": 89,
     "metadata": {},
     "output_type": "execute_result"
    }
   ],
   "source": [
    "x"
   ]
  },
  {
   "cell_type": "code",
   "execution_count": 93,
   "metadata": {},
   "outputs": [],
   "source": [
    "run1 = list(df[(df['run']==1) & (df['stat-name']==variavel_escolhida)]['machine'])"
   ]
  },
  {
   "cell_type": "code",
   "execution_count": 94,
   "metadata": {},
   "outputs": [
    {
     "data": {
      "text/plain": [
       "[574, 237, 594, 610, 663]"
      ]
     },
     "execution_count": 94,
     "metadata": {},
     "output_type": "execute_result"
    }
   ],
   "source": [
    "run1"
   ]
  },
  {
   "cell_type": "code",
   "execution_count": 97,
   "metadata": {},
   "outputs": [
    {
     "data": {
      "image/png": "[encoded data removed]",
      "text/plain": [
       "<Figure size 640x480 with 1 Axes>"
      ]
     },
     "metadata": {},
     "output_type": "display_data"
    }
   ],
   "source": [
    "barWidth = 0.25\n",
    "variavel_escolhida = 'cond_branches_taken'\n",
    "#Grouping\n",
    "run1 = list(df[(df['run']==1) & (df['stat-name']==variavel_escolhida)]['machine'])\n",
    "run2= list(df[(df['run']==2) & (df['stat-name']==variavel_escolhida)]['machine'])\n",
    "run3= list(df[(df['run']==3) & (df['stat-name']==variavel_escolhida)]['machine'])\n",
    "\n",
    "# Set position of bar on X axis\n",
    "r1 = np.arange(len(run1))\n",
    "r2 = [x + barWidth for x in r1]\n",
    "r3 = [x + barWidth for x in r2]\n",
    " \n",
    "# Make the plot\n",
    "plt.bar(r1, run1, color='#C14242', width=barWidth, edgecolor='white', label='Run1')\n",
    "plt.bar(r2, run2, color='#3FBF7F', width=barWidth, edgecolor='white', label='Run2')\n",
    "plt.bar(r3, run3, color='#7F3FBF', width=barWidth, edgecolor='white', label='Run3')\n",
    "\n",
    "# Add xticks on the middle of the group bars\n",
    "plt.xlabel('Arquitetural Groups', fontweight='bold')\n",
    "plt.xticks([r + barWidth for r in range(len(run1))], caixas)\n",
    "\n",
    "plt.ylabel('Quantities')\n",
    "\n",
    "plt.title(\"Conditional Branches Taken\")\n",
    "# Create legend & Show graphic\n",
    "plt.legend()\n",
    "plt.show()"
   ]
  }
 ],
 "metadata": {
  "kernelspec": {
   "display_name": "Python 3",
   "language": "python",
   "name": "python3"
  },
  "language_info": {
   "codemirror_mode": {
    "name": "ipython",
    "version": 3
   },
   "file_extension": ".py",
   "mimetype": "text/x-python",
   "name": "python",
   "nbconvert_exporter": "python",
   "pygments_lexer": "ipython3",
   "version": "3.8.10"
  },
  "orig_nbformat": 4
 },
 "nbformat": 4,
 "nbformat_minor": 2
}
